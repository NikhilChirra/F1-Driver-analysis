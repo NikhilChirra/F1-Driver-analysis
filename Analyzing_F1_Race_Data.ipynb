{
  "nbformat": 4,
  "nbformat_minor": 0,
  "metadata": {
    "colab": {
      "provenance": []
    },
    "kernelspec": {
      "name": "python3",
      "display_name": "Python 3"
    },
    "language_info": {
      "name": "python"
    }
  },
  "cells": [
    {
      "cell_type": "markdown",
      "source": [
        "Import Packages"
      ],
      "metadata": {
        "id": "wA-cXC8rOxtA"
      }
    },
    {
      "cell_type": "code",
      "execution_count": null,
      "metadata": {
        "id": "eNrS-bhIlarw"
      },
      "outputs": [],
      "source": [
        "import pandas as pd\n",
        "import numpy as np\n",
        "import matplotlib.pyplot as plt\n",
        "import seaborn as sns\n",
        "import plotly.express as px"
      ]
    },
    {
      "cell_type": "code",
      "source": [
        "from sklearn.model_selection import train_test_split\n",
        "from sklearn.linear_model import LinearRegression\n",
        "from sklearn.ensemble import RandomForestRegressor\n",
        "from sklearn.metrics import mean_squared_error\n",
        "from sklearn.metrics import r2_score\n",
        "from sklearn.metrics import mean_absolute_error"
      ],
      "metadata": {
        "id": "pMUhYrMROkCR"
      },
      "execution_count": null,
      "outputs": []
    },
    {
      "cell_type": "markdown",
      "source": [
        "Data Sampling and Pre-processing"
      ],
      "metadata": {
        "id": "a7m782nEO7K3"
      }
    },
    {
      "cell_type": "code",
      "source": [
        "df = pd.read_csv(\"F1DriversDataset 2.csv\")\n",
        "df"
      ],
      "metadata": {
        "id": "fM8LyJxblfGV"
      },
      "execution_count": null,
      "outputs": []
    },
    {
      "cell_type": "code",
      "source": [
        "df.head()"
      ],
      "metadata": {
        "id": "5OgxGU75liNI"
      },
      "execution_count": null,
      "outputs": []
    },
    {
      "cell_type": "code",
      "source": [
        "df.columns"
      ],
      "metadata": {
        "id": "gdlDv9EXlnmp",
        "colab": {
          "base_uri": "https://localhost:8080/"
        },
        "outputId": "bde07a55-9b5f-47df-e99f-95ced712621f"
      },
      "execution_count": null,
      "outputs": [
        {
          "output_type": "execute_result",
          "data": {
            "text/plain": [
              "Index(['Driver', 'Nationality', 'Seasons', 'Championships', 'Race_Entries',\n",
              "       'Race_Starts', 'Pole_Positions', 'Race_Wins', 'Podiums', 'Fastest_Laps',\n",
              "       'Points', 'Active', 'Championship Years', 'Decade', 'Pole_Rate',\n",
              "       'Start_Rate', 'Win_Rate', 'Podium_Rate', 'FastLap_Rate',\n",
              "       'Points_Per_Entry', 'Years_Active', 'Champion'],\n",
              "      dtype='object')"
            ]
          },
          "metadata": {},
          "execution_count": 7
        }
      ]
    },
    {
      "cell_type": "code",
      "source": [
        "nationality_drivers = df['Nationality'].value_counts().sort_values(ascending=False)\n",
        "nationality_drivers"
      ],
      "metadata": {
        "id": "29rtGBdClri0",
        "colab": {
          "base_uri": "https://localhost:8080/"
        },
        "outputId": "e6e0d7fb-6eea-4825-d1ab-e5074ec4e5da"
      },
      "execution_count": null,
      "outputs": [
        {
          "output_type": "execute_result",
          "data": {
            "text/plain": [
              "Nationality\n",
              "United Kingdom                164\n",
              "United States                 160\n",
              "Italy                          99\n",
              "France                         72\n",
              "West Germany                   39\n",
              "Brazil                         32\n",
              "Argentina                      25\n",
              "Switzerland                    24\n",
              "Belgium                        23\n",
              "South Africa                   23\n",
              "Japan                          21\n",
              "Australia                      18\n",
              "Austria                        16\n",
              "Netherlands                    16\n",
              "Spain                          15\n",
              "Canada                         15\n",
              "Germany                        14\n",
              "Sweden                         11\n",
              "Finland                         9\n",
              "New Zealand                     9\n",
              "Mexico                          6\n",
              "Ireland                         5\n",
              "Denmark                         5\n",
              "Portugal                        5\n",
              "Uruguay                         4\n",
              "Rhodesia                        4\n",
              "Monaco                          4\n",
              "Russia                          3\n",
              "Venezuela                       3\n",
              "East Germany                    3\n",
              "Colombia                        3\n",
              "Thailand                        2\n",
              "India                           2\n",
              "Rhodesia and Nyasaland          1\n",
              "East Germany, West Germany      1\n",
              "Hungary                         1\n",
              "Czech Republic                  1\n",
              "Belgium France                  1\n",
              "Indonesia                       1\n",
              "RAF                             1\n",
              "Poland                          1\n",
              "Monaco Netherlands              1\n",
              "Morocco                         1\n",
              "Malaysia                        1\n",
              "Chile                           1\n",
              "Liechtenstein                   1\n",
              "China                           1\n",
              "Name: count, dtype: int64"
            ]
          },
          "metadata": {},
          "execution_count": 11
        }
      ]
    },
    {
      "cell_type": "code",
      "source": [
        "df_winsvsyears = df[['Years_Active','Race_Wins']]\n",
        "df_winsvsyears.head()"
      ],
      "metadata": {
        "id": "gkA1gNB8l0cE"
      },
      "execution_count": null,
      "outputs": []
    },
    {
      "cell_type": "code",
      "source": [
        "X= df_winsvsyears['Years_Active'].to_numpy().reshape(-1,1)\n",
        "y = df_winsvsyears['Race_Wins'].to_numpy().reshape(-1,1).ravel()"
      ],
      "metadata": {
        "id": "m6Y4uk_ml8gK"
      },
      "execution_count": null,
      "outputs": []
    },
    {
      "cell_type": "code",
      "source": [
        "X_train, X_test, y_train, y_test = train_test_split(X, y, test_size=0.2, random_state=42)\n",
        "\n",
        "randomf_regressor = RandomForestRegressor(n_estimators=200, max_depth=None)\n",
        "\n",
        "randomf_regressor.fit(X_train, y_train)\n",
        "\n",
        "y_pred = randomf_regressor.predict(X_test)"
      ],
      "metadata": {
        "id": "7CY3ga-KmBbw"
      },
      "execution_count": null,
      "outputs": []
    },
    {
      "cell_type": "code",
      "source": [
        "corr_coef = df['Years_Active'].corr(df['Race_Wins'])\n",
        "mse = mean_squared_error(y_test, y_pred)\n",
        "\n",
        "print(\"Mean Squared Error: \", mse)\n",
        "print(\"Correlation Coefficient\",corr_coef)"
      ],
      "metadata": {
        "id": "RyyLJsbymEjO",
        "colab": {
          "base_uri": "https://localhost:8080/"
        },
        "outputId": "9fc979b7-1972-4c56-fd09-f17f2a4e22eb"
      },
      "execution_count": null,
      "outputs": [
        {
          "output_type": "stream",
          "name": "stdout",
          "text": [
            "Mean Squared Error:  20.83032334277934\n",
            "Correlation Coefficient 0.503716776826638\n"
          ]
        }
      ]
    },
    {
      "cell_type": "code",
      "source": [
        "df_champions = df.query('Championships > 0')\n",
        "df_champions.head()\n",
        "df_champions.isnull().sum()"
      ],
      "metadata": {
        "id": "Cn2K_OGumHw_"
      },
      "execution_count": null,
      "outputs": []
    },
    {
      "cell_type": "code",
      "source": [
        "def linear_regression(df, predictor, target):\n",
        "\n",
        "    X = df[predictor].values.reshape(-1,1)\n",
        "    y = df[target].values.reshape(-1,1)\n",
        "\n",
        "    regressor = LinearRegression()\n",
        "    regressor.fit(X, y)\n",
        "    y_pred = regressor.predict(X)\n",
        "\n",
        "    prediction_score = mean_squared_error(y, y_pred)\n",
        "    r_squared = regressor.score(X, y)\n",
        "    corr_coef = df[predictor].corr(df[target])\n",
        "\n",
        "    #visualizing predictor and target\n",
        "    fig = sns.lmplot(x=predictor,y=target,data=df)\n",
        "\n",
        "    plt.plot(df[predictor], regressor.predict(df[[predictor]]), color='red')\n",
        "    plt.title('Race Wins vs Pole Positions')\n",
        "    plt.show()\n",
        "    return corr_coef, r_squared, y_pred, prediction_score, fig\n",
        "\n",
        "print('prediction_score', prediction_score)\n",
        "print('correlation coefficient', corr_coef)\n",
        "print('R-squared:', r_squared)\n",
        "\n",
        "corr_coef, r_squared, y_pred, prediction_score, fig = linear_regression(df_champions, 'Pole_Positions', 'Race_Wins')"
      ],
      "metadata": {
        "id": "3Nxv57aAmM4J",
        "colab": {
          "base_uri": "https://localhost:8080/",
          "height": 616
        },
        "outputId": "73def433-90d0-4c7a-e285-2616d06f3b89"
      },
      "execution_count": null,
      "outputs": [
        {
          "output_type": "stream",
          "name": "stdout",
          "text": [
            "prediction_score 68.33930367927572\n",
            "correlation coefficient 0.9280326627611925\n",
            "R-squared: 0.8612446231516298\n"
          ]
        },
        {
          "output_type": "stream",
          "name": "stderr",
          "text": [
            "/usr/local/lib/python3.10/dist-packages/sklearn/base.py:458: UserWarning: X has feature names, but LinearRegression was fitted without feature names\n",
            "  warnings.warn(\n"
          ]
        },
        {
          "output_type": "display_data",
          "data": {
            "text/plain": [
              "<Figure size 500x500 with 1 Axes>"
            ],
            "image/png": "[encoded data removed]"
          },
          "metadata": {}
        }
      ]
    }
  ]
}